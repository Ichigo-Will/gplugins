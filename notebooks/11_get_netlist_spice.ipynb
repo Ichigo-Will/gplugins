{
 "cells": [
  {
   "cell_type": "markdown",
   "id": "0",
   "metadata": {},
   "source": [
    "# Netlist extractor SPICE\n",
    "\n",
    "This notebook demonstrates how to extract the SPICE netlist of a Component or a GDS file using gdsfactory. It uses the :func:`~get_netlist` and :func:`~get_l2n` functions from the `gplugins.klayout` module to extract the netlist and connectivity mapping, respectively. It also uses the `plot_nets` function to visualize the connectivity.\n"
   ]
  },
  {
   "cell_type": "code",
   "execution_count": null,
   "id": "1",
   "metadata": {},
   "outputs": [],
   "source": [
    "import pathlib\n",
    "\n",
    "from gdsfactory.samples.demo.lvs import pads_correct, pads_shorted\n",
    "\n",
    "from gplugins.klayout.get_netlist import get_l2n, get_netlist\n",
    "from gplugins.klayout.plot_nets import plot_nets"
   ]
  },
  {
   "cell_type": "markdown",
   "id": "2",
   "metadata": {},
   "source": [
    "## Sample layouts\n",
    "\n",
    "We generate a sample layout using `pads_correct` and write a GDS file."
   ]
  },
  {
   "cell_type": "code",
   "execution_count": null,
   "id": "3",
   "metadata": {},
   "outputs": [],
   "source": [
    "c = pads_correct()\n",
    "gdspath = c.write_gds()\n",
    "c.plot()"
   ]
  },
  {
   "cell_type": "markdown",
   "id": "4",
   "metadata": {},
   "source": [
    "We obtain the netlist using KLayout by simply calling the :func:`~get_netlist` function from the `gplugins.klayout` module. The function takes the path to the GDS file as an argument and returns the netlist as a `kdb.Netlist` object."
   ]
  },
  {
   "cell_type": "code",
   "execution_count": null,
   "id": "5",
   "metadata": {},
   "outputs": [],
   "source": [
    "netlist = get_netlist(gdspath)\n",
    "print(netlist)"
   ]
  },
  {
   "cell_type": "markdown",
   "id": "6",
   "metadata": {},
   "source": [
    "The connectivity between the components in the GDS file can be visualized using the :func:`~plot_nets` function from the `gplugins.klayout` module. The function takes the path to the GDS file as an argument and plots the connectivity between the components in the GDS file."
   ]
  },
  {
   "cell_type": "code",
   "execution_count": null,
   "id": "7",
   "metadata": {},
   "outputs": [],
   "source": [
    "l2n = get_l2n(gdspath)\n",
    "cwd = pathlib.Path.cwd()\n",
    "filepath = cwd / f\"{c.name}.txt\"\n",
    "l2n.write_l2n(str(filepath))\n",
    "plot_nets(filepath)"
   ]
  },
  {
   "cell_type": "markdown",
   "id": "8",
   "metadata": {},
   "source": [
    "The same steps as above are done for a shorted case."
   ]
  },
  {
   "cell_type": "code",
   "execution_count": null,
   "id": "9",
   "metadata": {},
   "outputs": [],
   "source": [
    "c = pads_shorted()\n",
    "gdspath = c.write_gds()\n",
    "c.plot()"
   ]
  },
  {
   "cell_type": "code",
   "execution_count": null,
   "id": "10",
   "metadata": {},
   "outputs": [],
   "source": [
    "netlist = get_netlist(gdspath)\n",
    "print(netlist)"
   ]
  },
  {
   "cell_type": "code",
   "execution_count": null,
   "id": "11",
   "metadata": {},
   "outputs": [],
   "source": [
    "l2n = get_l2n(gdspath)\n",
    "filepath = cwd / f\"{c.name}.txt\"\n",
    "l2n.write_l2n(str(filepath))\n",
    "plot_nets(filepath)"
   ]
  },
  {
   "cell_type": "code",
   "execution_count": null,
   "id": "12",
   "metadata": {},
   "outputs": [],
   "source": []
  }
 ],
 "metadata": {
  "jupytext": {
   "cell_metadata_filter": "-all",
   "custom_cell_magics": "kql"
  },
  "kernelspec": {
   "display_name": "base",
   "language": "python",
   "name": "python3"
  }
 },
 "nbformat": 4,
 "nbformat_minor": 5
}
